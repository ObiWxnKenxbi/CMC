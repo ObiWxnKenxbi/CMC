{
 "cells": [
  {
   "cell_type": "code",
   "execution_count": 1,
   "metadata": {
    "id": "sGuUUSuJAJhc"
   },
   "outputs": [],
   "source": [
    "import socket\n",
    "import time\n",
    "import numpy as np\n",
    "import pandas as pd"
   ]
  },
  {
   "cell_type": "code",
   "execution_count": 3,
   "metadata": {
    "colab": {
     "base_uri": "https://localhost:8080/"
    },
    "id": "hDSA6m8e5aLw",
    "outputId": "25ff2c02-b81b-4ae3-cfeb-ffa0d327827c"
   },
   "outputs": [
    {
     "name": "stdout",
     "output_type": "stream",
     "text": [
      "UDP target IP: 169.254.152.245\n",
      "UDP target port: 3333\n"
     ]
    }
   ],
   "source": [
    "UPD_IP = \"169.254.152.245\"\n",
    "UDP_PORT = 3333\n",
    "print(\"UDP target IP:\", UPD_IP)\n",
    "print(\"UDP target port:\", UDP_PORT)"
   ]
  },
  {
   "cell_type": "code",
   "execution_count": 4,
   "metadata": {},
   "outputs": [
    {
     "name": "stdout",
     "output_type": "stream",
     "text": [
      "  1st chord 2nd chord 3rd chord 4th chord\n",
      "0         C         G        Am         F\n",
      "1        Dm         G         C       NaN\n",
      "2         F         C         G       NaN\n",
      "3        Em        Am        Dm         G\n",
      "4        Am         F         C         G\n"
     ]
    }
   ],
   "source": [
    "# Read the chord progression data from the csv file\n",
    "df = pd.read_csv(\"/Users/sofiavallejo/Desktop/Multiverse/chord-progressions.csv\")\n",
    "\n",
    "# Print the first 5 rows of the data\n",
    "print(df.head())"
   ]
  },
  {
   "cell_type": "code",
   "execution_count": 24,
   "metadata": {},
   "outputs": [
    {
     "name": "stdout",
     "output_type": "stream",
     "text": [
      "['Dm', 'F', 'Em', 'Am', 'F', 'Em', 'Am', 'F', 'C', 'Am', 'F', 'Em', 'Am']\n"
     ]
    },
    {
     "name": "stderr",
     "output_type": "stream",
     "text": [
      "/var/folders/03/znhc1cs51ld5bymktj38_fwm0000gn/T/ipykernel_4358/2791127528.py:14: FutureWarning: The series.append method is deprecated and will be removed from pandas in a future version. Use pandas.concat instead.\n",
      "  chords = list(set(df['1st chord'].append(df['2nd chord']).append(df['3rd chord']).append(df['4th chord'])))\n",
      "/var/folders/03/znhc1cs51ld5bymktj38_fwm0000gn/T/ipykernel_4358/2791127528.py:14: FutureWarning: The series.append method is deprecated and will be removed from pandas in a future version. Use pandas.concat instead.\n",
      "  chords = list(set(df['1st chord'].append(df['2nd chord']).append(df['3rd chord']).append(df['4th chord'])))\n"
     ]
    }
   ],
   "source": [
    "# Access the 1st chord column\n",
    "first_chord = df['1st chord']\n",
    "\n",
    "# Access the 2nd chord column\n",
    "second_chord = df['2nd chord']\n",
    "\n",
    "# Access the 3rd chord column\n",
    "third_chord = df['3rd chord']\n",
    "\n",
    "# Access the 4th chord column\n",
    "fourth_chord = df['4th chord']\n",
    "\n",
    "# Create a list of unique chords\n",
    "chords = list(set(df['1st chord'].append(df['2nd chord']).append(df['3rd chord']).append(df['4th chord'])))\n",
    "\n",
    "# Create a dictionary to map the chord names to integers\n",
    "chord_to_int = {chord: i for i, chord in enumerate(chords)}\n",
    "\n",
    "# Create a transition matrix\n",
    "num_chords = len(chords)\n",
    "transition_matrix = np.zeros((num_chords, num_chords))\n",
    "\n",
    "# Iterate over the dataframe to populate the transition matrix\n",
    "for i, row in df.iterrows():\n",
    "    transition_matrix[chord_to_int[row['1st chord']], chord_to_int[row['2nd chord']]] += 1\n",
    "    transition_matrix[chord_to_int[row['2nd chord']], chord_to_int[row['3rd chord']]] += 1\n",
    "    transition_matrix[chord_to_int[row['3rd chord']], chord_to_int[row['4th chord']]] += 1\n",
    "\n",
    "# Normalize the transition matrix so that it becomes a probability distribution\n",
    "transition_matrix /= transition_matrix.sum(axis=1, keepdims=True)\n",
    "\n",
    "# Start with a random chord\n",
    "current_chord = np.random.choice(num_chords)\n",
    "\n",
    "# Create a list to store the generated chord progression\n",
    "progression = [current_chord]\n",
    "\n",
    "# Generate the next chord using the transition matrix\n",
    "for i in range(100):\n",
    "    current_chord = np.random.choice(num_chords, p=transition_matrix[current_chord])\n",
    "    progression.append(current_chord)\n",
    "\n",
    "# Map the generated integers back to chord names\n",
    "progression = [chords[chord] for chord in progression]\n",
    "\n",
    "# Create a dictionary to store the transition matrix\n",
    "transition_matrix = {}\n",
    "\n",
    "# Iterate through each row in the DataFrame\n",
    "for i, row in df.iterrows():\n",
    "    current_chord = row['1st chord']\n",
    "    next_chord = row['2nd chord']\n",
    "    \n",
    "    # If the current chord is not already in the transition matrix, add it\n",
    "    if current_chord not in transition_matrix:\n",
    "        transition_matrix[current_chord] = {}\n",
    "    \n",
    "    # If the next chord is not already in the transition matrix for the current chord, add it\n",
    "    if next_chord not in transition_matrix[current_chord]:\n",
    "        transition_matrix[current_chord][next_chord] = 1\n",
    "    # Otherwise, increment the count of the next chord\n",
    "    else:\n",
    "        transition_matrix[current_chord][next_chord] += 1\n",
    "\n",
    "# Normalize the transition matrix\n",
    "for current_chord in transition_matrix:\n",
    "    total = sum(transition_matrix[current_chord].values())\n",
    "    for next_chord in transition_matrix[current_chord]:\n",
    "        transition_matrix[current_chord][next_chord] /= total\n",
    "\n",
    "# Select a random initial chord\n",
    "current_chord = np.random.choice(list(transition_matrix.keys()))\n",
    "\n",
    "# Generate the chord progression\n",
    "generated_progression = [current_chord]\n",
    "for i in range(12): # Generate 10 chords\n",
    "    if current_chord not in transition_matrix or pd.isna(current_chord):\n",
    "        break\n",
    "    state_distribution = list(transition_matrix[current_chord].values())\n",
    "    next_chords = list(transition_matrix[current_chord].keys())\n",
    "    current_chord = np.random.choice(next_chords, p=state_distribution)\n",
    "    generated_progression.append(current_chord)\n",
    "\n",
    "# Print the generated chord progression\n",
    "print(generated_progression)"
   ]
  },
  {
   "cell_type": "code",
   "execution_count": 10,
   "metadata": {
    "colab": {
     "base_uri": "https://localhost:8080/"
    },
    "id": "g9e3leoj7XzC",
    "outputId": "cca4ad9c-a33a-4236-8251-7ba274c15baf"
   },
   "outputs": [],
   "source": [
    "#UPD_IP = \"169.254.152.245\"\n",
    "#UDP_PORT = 3331\n",
    "\n",
    "#sock = socket.socket(socket.AF_INET, socket.SOCK_DGRAM)\n",
    "#pause = 1\n",
    "#data = generated_progression\n",
    "\n",
    "#running = False\n",
    "\n",
    "#while True:\n",
    "#    try:\n",
    "#        data, addr = sock.recvfrom(3331)\n",
    "#        if data == b\"1\":\n",
    "#            running = True\n",
    "#        elif data == b\"0\":\n",
    "#            running = False\n",
    "#        if running: \n",
    "#            for d in data:\n",
    "#                d_bytes = d.encode('utf-8')\n",
    "#                sock.sendto(d_bytes, (UPD_IP, UDP_PORT))\n",
    "#                print(\"sent \", d)\n",
    "#                time.sleep(pause)\n",
    "#    except socket.error as e:\n",
    "#        print(\"error\", e)"
   ]
  },
  {
   "cell_type": "code",
   "execution_count": 25,
   "metadata": {},
   "outputs": [
    {
     "name": "stdout",
     "output_type": "stream",
     "text": [
      "sent  Dm\n",
      "sent  F\n",
      "sent  Em\n",
      "sent  Am\n",
      "sent  F\n"
     ]
    },
    {
     "ename": "OSError",
     "evalue": "[Errno 65] No route to host",
     "output_type": "error",
     "traceback": [
      "\u001b[0;31m---------------------------------------------------------------------------\u001b[0m",
      "\u001b[0;31mOSError\u001b[0m                                   Traceback (most recent call last)",
      "Input \u001b[0;32mIn [25]\u001b[0m, in \u001b[0;36m<cell line: 9>\u001b[0;34m()\u001b[0m\n\u001b[1;32m      9\u001b[0m \u001b[38;5;28;01mfor\u001b[39;00m d \u001b[38;5;129;01min\u001b[39;00m data:\n\u001b[1;32m     10\u001b[0m     d_bytes \u001b[38;5;241m=\u001b[39m d\u001b[38;5;241m.\u001b[39mencode(\u001b[38;5;124m'\u001b[39m\u001b[38;5;124mutf-8\u001b[39m\u001b[38;5;124m'\u001b[39m)\n\u001b[0;32m---> 11\u001b[0m     \u001b[43msock\u001b[49m\u001b[38;5;241;43m.\u001b[39;49m\u001b[43msendto\u001b[49m\u001b[43m(\u001b[49m\u001b[43md_bytes\u001b[49m\u001b[43m,\u001b[49m\u001b[43m \u001b[49m\u001b[43m(\u001b[49m\u001b[43mUPD_IP\u001b[49m\u001b[43m,\u001b[49m\u001b[43m \u001b[49m\u001b[43mUDP_PORT\u001b[49m\u001b[43m)\u001b[49m\u001b[43m)\u001b[49m\n\u001b[1;32m     12\u001b[0m     \u001b[38;5;28mprint\u001b[39m(\u001b[38;5;124m\"\u001b[39m\u001b[38;5;124msent \u001b[39m\u001b[38;5;124m\"\u001b[39m, d)\n\u001b[1;32m     13\u001b[0m     time\u001b[38;5;241m.\u001b[39msleep(pause)\n",
      "\u001b[0;31mOSError\u001b[0m: [Errno 65] No route to host"
     ]
    }
   ],
   "source": [
    "UPD_IP = \"169.254.152.245\"\n",
    "UDP_PORT = 3333\n",
    "\n",
    "sock = socket.socket(socket.AF_INET, socket.SOCK_DGRAM)\n",
    "pause = 1\n",
    "data = generated_progression\n",
    "\n",
    "running = False\n",
    "for d in data:\n",
    "    d_bytes = d.encode('utf-8')\n",
    "    sock.sendto(d_bytes, (UPD_IP, UDP_PORT))\n",
    "    print(\"sent \", d)\n",
    "    time.sleep(pause)"
   ]
  },
  {
   "cell_type": "code",
   "execution_count": null,
   "metadata": {},
   "outputs": [],
   "source": []
  }
 ],
 "metadata": {
  "colab": {
   "provenance": []
  },
  "kernelspec": {
   "display_name": "Python 3 (ipykernel)",
   "language": "python",
   "name": "python3"
  },
  "language_info": {
   "codemirror_mode": {
    "name": "ipython",
    "version": 3
   },
   "file_extension": ".py",
   "mimetype": "text/x-python",
   "name": "python",
   "nbconvert_exporter": "python",
   "pygments_lexer": "ipython3",
   "version": "3.9.12"
  }
 },
 "nbformat": 4,
 "nbformat_minor": 1
}
